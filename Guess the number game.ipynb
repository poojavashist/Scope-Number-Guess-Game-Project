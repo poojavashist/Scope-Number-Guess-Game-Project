{
 "cells": [
  {
   "cell_type": "code",
   "execution_count": 41,
   "metadata": {},
   "outputs": [
    {
     "name": "stdout",
     "output_type": "stream",
     "text": [
      "\n",
      "Welcome to the number Guessing Game!\n",
      "I'm thinking of a number between 1 and 100, try to guess it!\n",
      "Choose a difficulty. Type 'easy' or 'hard': easy\n",
      "you have 10 attempts remaining to guess the number.\n",
      "Make a guess: 10\n",
      "Too Low\n",
      "you have 9 attempts remaining to guess the number.\n",
      "Make a guess: 20\n",
      "Too Low\n",
      "you have 8 attempts remaining to guess the number.\n",
      "Make a guess: 30\n",
      "Too Low\n",
      "you have 7 attempts remaining to guess the number.\n",
      "Make a guess: 40\n",
      "Too Low\n",
      "you have 6 attempts remaining to guess the number.\n",
      "Make a guess: 50\n",
      "Too Low\n",
      "you have 5 attempts remaining to guess the number.\n",
      "Make a guess: 70\n",
      "Too High\n",
      "you have 4 attempts remaining to guess the number.\n",
      "Make a guess: 60\n",
      "Too Low\n",
      "you have 3 attempts remaining to guess the number.\n",
      "Make a guess: 65\n",
      "Too High\n",
      "you have 2 attempts remaining to guess the number.\n",
      "Make a guess: 61\n",
      "Too Low\n",
      "you have 1 attempts remaining to guess the number.\n",
      "Make a guess: 62\n",
      "Too Low\n",
      "you run out of attempts! You Lose the game \n"
     ]
    }
   ],
   "source": [
    "#Number Guessing Game Objectives:\n",
    "\n",
    "# Include an ASCII art logo.\n",
    "# Allow the player to submit a guess for a number between 1 and 100.\n",
    "# Check user's guess against actual answer. Print \"Too high.\" or \"Too low.\" depending on the user's answer. \n",
    "# If they got the answer correct, show the actual answer to the player.\n",
    "# Track the number of turns remaining.\n",
    "# If they run out of turns, provide feedback to the player. \n",
    "# Include two different difficulty levels (e.g., 10 guesses in easy mode, only 5 guesses in hard mode).\n",
    "\n",
    "from random import randint\n",
    "def choose_number():\n",
    "    return random.randint(1, 100)\n",
    "\n",
    "\n",
    "def game():\n",
    "    global number\n",
    "    chosen_number = choose_number()\n",
    "    while number != 0:\n",
    "        print(f\"you have {number} attempts remaining to guess the number.\")\n",
    "        guess = int(input(\"Make a guess: \"))\n",
    "        if guess > chosen_number:\n",
    "            print(\"Too High\")\n",
    "            number = number - 1\n",
    "            if number == 0:\n",
    "                print(\"you run out of attempts! \")\n",
    "        elif guess < chosen_number:\n",
    "            print(\"Too Low\")\n",
    "            number = number - 1\n",
    "            if number == 0:\n",
    "                print(\"you run out of attempts! You Lose the game \")\n",
    "        else:\n",
    "            print(\"you have guessed correctly! YOU WIN the GAME. \")\n",
    "            break\n",
    "\n",
    "print(\"\\nWelcome to the number Guessing Game!\\nI'm thinking of a number between 1 and 100, try to guess it!\")\n",
    "level = input(\"Choose a difficulty. Type 'easy' or 'hard': \")\n",
    "if level == \"easy\":\n",
    "    number = 10\n",
    "    game()\n",
    "elif level == \"hard\":\n",
    "    number = 5\n",
    "    game()\n",
    "else:\n",
    "    print(\"please check your input.\")\n"
   ]
  },
  {
   "cell_type": "code",
   "execution_count": null,
   "metadata": {},
   "outputs": [],
   "source": []
  },
  {
   "cell_type": "code",
   "execution_count": null,
   "metadata": {},
   "outputs": [],
   "source": []
  }
 ],
 "metadata": {
  "kernelspec": {
   "display_name": "Python 3",
   "language": "python",
   "name": "python3"
  },
  "language_info": {
   "codemirror_mode": {
    "name": "ipython",
    "version": 3
   },
   "file_extension": ".py",
   "mimetype": "text/x-python",
   "name": "python",
   "nbconvert_exporter": "python",
   "pygments_lexer": "ipython3",
   "version": "3.8.3"
  }
 },
 "nbformat": 4,
 "nbformat_minor": 4
}
